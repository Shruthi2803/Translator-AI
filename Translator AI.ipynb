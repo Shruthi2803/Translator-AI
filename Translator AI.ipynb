{
 "cells": [
  {
   "cell_type": "code",
   "execution_count": 14,
   "id": "b56d96fd",
   "metadata": {},
   "outputs": [],
   "source": [
    "from tkinter import *\n",
    "from tkinter import ttk\n",
    "from googletrans import Translator,LANGUAGES\n",
    "root =Tk()\n",
    "root.geometry('1100x320')\n",
    "root.resizable(0,0)\n",
    "root['bg']='lime'\n",
    "root.title('Language translator by Shruthi k')\n",
    "Label(root,text=\"Language Translator\" ,font = \"Arial 20 bold\",border='2',relief=\"solid\").pack()\n",
    "Label(root,text=\"Enter Text\" ,font ='arial 13 bold' ,bg='white smoke',border='1',relief=\"solid\").place(x=165, y=90)\n",
    "Input_text=Entry(root,width=60)\n",
    "Input_text.place(x=30,y=130)\n",
    "Input_text.get()\n",
    "Label(root,text=\"output\" ,font ='arial 13 bold', bg='white smoke',border='1',relief=\"solid\").place(x=780,y=90)\n",
    "Output_text=Text(root,font='arial 10',height=5,wrap=WORD,padx=5,pady=5,width=50)\n",
    "Output_text.place(x=600,y=130)\n",
    "\n",
    "language= list(LANGUAGES.values())\n",
    "\n",
    "dest_lang= ttk.Combobox(root,values=language,width=22)\n",
    "dest_lang.place(x=130,y=180)\n",
    "dest_lang.set('choose language')\n",
    "\n",
    "def Translate():\n",
    "    translator= Translator()\n",
    "    translated= translator.translate(text=Input_text.get(), dest= dest_lang.get())\n",
    "    Output_text.delete(1.0, END)\n",
    "    Output_text.insert(END, translated.text)\n",
    "    \n",
    "trans_btn=Button(root,text='Translate',font='arial 12 bold', pady=5, command=Translate,bg='white',activebackground='orange')\n",
    "trans_btn.place(x=445,y=180)\n",
    "\n",
    "root.mainloop()"
   ]
  },
  {
   "cell_type": "code",
   "execution_count": null,
   "id": "25c489bf",
   "metadata": {},
   "outputs": [],
   "source": []
  },
  {
   "cell_type": "code",
   "execution_count": null,
   "id": "768a7d61",
   "metadata": {},
   "outputs": [],
   "source": []
  },
  {
   "cell_type": "code",
   "execution_count": null,
   "id": "c3231348",
   "metadata": {},
   "outputs": [],
   "source": []
  }
 ],
 "metadata": {
  "kernelspec": {
   "display_name": "Python 3 (ipykernel)",
   "language": "python",
   "name": "python3"
  },
  "language_info": {
   "codemirror_mode": {
    "name": "ipython",
    "version": 3
   },
   "file_extension": ".py",
   "mimetype": "text/x-python",
   "name": "python",
   "nbconvert_exporter": "python",
   "pygments_lexer": "ipython3",
   "version": "3.11.3"
  }
 },
 "nbformat": 4,
 "nbformat_minor": 5
}
